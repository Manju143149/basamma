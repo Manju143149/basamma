{
  "nbformat": 4,
  "nbformat_minor": 0,
  "metadata": {
    "colab": {
      "provenance": [],
      "authorship_tag": "ABX9TyMfdK3xtr9WY4OMTZShllqu",
      "include_colab_link": true
    },
    "kernelspec": {
      "name": "python3",
      "display_name": "Python 3"
    },
    "language_info": {
      "name": "python"
    }
  },
  "cells": [
    {
      "cell_type": "markdown",
      "metadata": {
        "id": "view-in-github",
        "colab_type": "text"
      },
      "source": [
        "<a href=\"https://colab.research.google.com/github/Manju143149/basamma/blob/main/python%201.ipynb\" target=\"_parent\"><img src=\"https://colab.research.google.com/assets/colab-badge.svg\" alt=\"Open In Colab\"/></a>"
      ]
    },
    {
      "cell_type": "code",
      "execution_count": null,
      "metadata": {
        "colab": {
          "base_uri": "https://localhost:8080/"
        },
        "id": "l1phCnrovUIc",
        "outputId": "4c513f58-ff8e-43b2-c87d-f73cbf8d13f0"
      },
      "outputs": [
        {
          "output_type": "stream",
          "name": "stdout",
          "text": [
            "Enter the no6\n",
            "Even\n"
          ]
        }
      ],
      "source": [
        "A=int (input (\"Enter the no\"))\n",
        "if (A%2==0):\n",
        "   print(\"Even\")\n",
        "else:\n",
        "   print(\"odd\")"
      ]
    },
    {
      "cell_type": "code",
      "source": [
        "A=int(input (\"Enter the age\"))\n",
        "if(A>=18):\n",
        "   print(\"Eligible to vote\")\n",
        "else:\n",
        "   print(\"not eligible\")"
      ],
      "metadata": {
        "colab": {
          "base_uri": "https://localhost:8080/"
        },
        "id": "F8e809xJzWrh",
        "outputId": "d127e84a-4c46-457f-b951-cb739c819f73"
      },
      "execution_count": null,
      "outputs": [
        {
          "output_type": "stream",
          "name": "stdout",
          "text": [
            "Enter the Age3\n",
            "not eligible\n"
          ]
        }
      ]
    },
    {
      "cell_type": "code",
      "source": [
        "\n",
        "A=int(input (\"enter the year of the birth\"))\n",
        "age=2025-A\n",
        "if(age>=18):\n",
        "   print (\"adult\")\n",
        "else:\n",
        "   print(\"child\")"
      ],
      "metadata": {
        "colab": {
          "base_uri": "https://localhost:8080/"
        },
        "id": "IQVwgG2r2uN4",
        "outputId": "826ca69b-3703-40f3-f443-7fb7b9e05edc"
      },
      "execution_count": null,
      "outputs": [
        {
          "output_type": "stream",
          "name": "stdout",
          "text": [
            "enter the year of the birth4\n",
            "adult\n"
          ]
        }
      ]
    },
    {
      "cell_type": "code",
      "source": [],
      "metadata": {
        "id": "OA-pwns92dpc"
      },
      "execution_count": null,
      "outputs": []
    }
  ]
}