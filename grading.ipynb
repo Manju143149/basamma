{
  "nbformat": 4,
  "nbformat_minor": 0,
  "metadata": {
    "colab": {
      "provenance": [],
      "authorship_tag": "ABX9TyMorfpbyLcY7KSFkCvn1VQF",
      "include_colab_link": true
    },
    "kernelspec": {
      "name": "python3",
      "display_name": "Python 3"
    },
    "language_info": {
      "name": "python"
    }
  },
  "cells": [
    {
      "cell_type": "markdown",
      "metadata": {
        "id": "view-in-github",
        "colab_type": "text"
      },
      "source": [
        "<a href=\"https://colab.research.google.com/github/Manju143149/basamma/blob/main/grading.ipynb\" target=\"_parent\"><img src=\"https://colab.research.google.com/assets/colab-badge.svg\" alt=\"Open In Colab\"/></a>"
      ]
    },
    {
      "cell_type": "code",
      "execution_count": null,
      "metadata": {
        "colab": {
          "base_uri": "https://localhost:8080/"
        },
        "id": "_wotj9uN91O9",
        "outputId": "7ff68ff8-7073-4661-c726-4fc8945d274c"
      },
      "outputs": [
        {
          "output_type": "stream",
          "name": "stdout",
          "text": [
            "Enter your marks100\n",
            "A grade\n"
          ]
        }
      ],
      "source": [
        "A=int(input (\"Enter your marks\"))\n",
        "if (A<35):\n",
        "  print (\"fail\")\n",
        "elif(A<60):\n",
        "  print (\"C grade\")\n",
        "elif(A<80):\n",
        "  print (\"B grade\")\n",
        "elif(A<=100):\n",
        "  print (\"A grade\")\n",
        "else:\n",
        "  print (\"wrong input\")"
      ]
    }
  ]
}